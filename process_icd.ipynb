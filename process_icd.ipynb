{
 "cells": [
  {
   "cell_type": "markdown",
   "id": "8358e509",
   "metadata": {},
   "source": [
    "# ICD-9-CM and ICD-10-CM Codes\n",
    "\n",
    "Python notebook for processing ICD-9-CM and ICD-10-CM codes, including bi-directional mappings, using publicly available datasets.\n",
    "\n",
    "## 1. ICD-9-CM and ICD-10-CM data\n",
    "\n",
    "* [ICD-9-CM Codes](https://www.cms.gov/medicare/coding-billing/icd-10-codes/icd-9-cm-diagnosis-procedure-codes-abbreviated-and-full-code-titles)\n",
    "* [ICD-10-CM Codes](https://www.cdc.gov/nchs/icd/icd-10-cm/index.html)\n",
    "* [Clinical Classification Software Refined (CCSR)](https://hcup-us.ahrq.gov/toolssoftware/ccsr/ccs_refined.jsp)\n",
    "  codes from:\n",
    "\n",
    "**[Healthcare Cost & Utilization Project](https://hcup-us.ahrq.gov/toolssoftware/ccs/ccs.jsp)**  \n",
    "Agency for Healthcare Research and Quality  \n",
    "U.S. Department of Health and Human Services\n",
    "\n",
    "**Code Descriptions:**\n",
    "\n",
    "* **[ICD-9-CM](https://hcup-us.ahrq.gov/toolssoftware/ccs/$DXREF%202008_Archive.csv)**\n",
    "* **[ICD-10-CM](https://hcup-us.ahrq.gov/toolssoftware/ccsr/dxccsr.jsp)**\n",
    "\n",
    "ICD-10-CM codes are specified with all periods (\".\") removed.\n",
    "\n",
    "Note that while ICD-9-CM and ICD-10-CM codes are mostly distinct, there is a small overlap of [duplicate ICD-9-CM and ICD-10-CM codes](https://www.hhs.gov/guidance/sites/default/files/hhs-guidance-documents/2015-duplicate_ICD10CM_codes.pdf).\n",
    "\n",
    "## 2. Mappings Between ICD-9-CM and ICD-10-CM\n",
    "\n",
    "Mappings between ICD-9-CM and ICD-10-CM codes are provided by:\n",
    "\n",
    "**[The National Bureau of Economic Research (NBER)](https://www.nber.org/)**\n",
    "\n",
    "NBER provides recommendations for a manual mapping process from ICD-9-CM to ICD-10-CM (*forward mapping*), and from ICD-10-CM to ICD-9-CM (*backwards mapping*).\n",
    "\n",
    "We use the 2018 [General Equivalence Mappings (GEMs)](https://www.cms.gov/medicare/coding-billing/icd-10-codes/2018-icd-10-cm-gem), the [latest year with available data](https://www.cms.gov/medicare/coding-billing/icd-10-codes/2019-icd-10-cm).\n",
    "\n",
    "Mappings are not a simple 1-1 correspondence between ICD-9-CM and ICD-10-CM codes. There are codes with no matches, codes with multiple matches, and codes without matches in both mappings (9->10, 10->9).\n",
    "\n",
    "**FAQs from NBER:**\n",
    "\n",
    "* [Basic FAQ](https://data.nber.org/gem/GEMs-CrosswalksBasicFAQ.pdf)\n",
    "* [Technical FAQ](https://data.nber.org/gem/GEMs-CrosswalksTechnicalFAQ.pdf)\n",
    "* [User's Guide](https://www.hhs.gov/guidance/sites/default/files/hhs-guidance-documents/GemsTechDoc_0.pdf)\n",
    "\n",
    "Note: A large NBER page regarding GEMs can be found [here](https://www.nber.org/research/data/icd-9-cm-and-icd-10-cm-and-icd-10-pcs-crosswalk-or-general-equivalence-mappings), although it does not seem to have been updated with the most recent data.\n",
    "\n",
    "**Problems with icd-mapper**\n",
    "\n",
    "Demonstrates several problems with an existing open-source tool for this mapping between ICD codes, [icd-mapper](https://pypi.org/project/icd-mappings/) (first Google result, 9/1/2024, when searching 'icd mapping python').\n",
    "\n",
    "## 3. Project ICD Categories\n",
    "\n",
    "Provides examples of identifying matching ICD-9-CM and ICD-10-CM codes for multiple projects. Note that the matching process involves manual review and is NOT automated.\n",
    "Output files listed below.\n",
    "\n",
    "\n",
    "### Notebook Outputs:\n",
    "\n",
    "#### ICD Code Data\n",
    "\n",
    "* [icd_9_10.csv](data/icd/icd_9_10.csv) - Descriptions of all ICD-9-CM and ICD-10-CM codes.\n",
    "* [icd9to10.csv](data/icd/icd9to10.csv) - NBER provided mapping from ICD-9-CM to ICD-10-CM, augmented with descriptions.\n",
    "* [icd10to9.csv](data/icd/icd10to9.csv) - NBER provided mapping from ICD-10-CM to ICD-9-CM, augmented with descriptions.\n",
    "\n",
    "#### Project Specific Codes\n",
    "\n",
    "**National (State Data)**\n",
    "\n",
    "ICD categories by project\n",
    "\n",
    "* [**State Data**](data/icd/project_icd_categories/state_data.csv) - ICD codes and descriptions for all categories included in the State Data study.\n",
    "\n",
    "\n",
    "\n",
    "* [**Network (CPQCC)**](data/icd/project_icd_categories/network_cpqcc.csv) - ICD codes and descriptions for ICD categories used in the CPQCC dataset."
   ]
  },
  {
   "cell_type": "code",
   "execution_count": 1,
   "id": "b121461a",
   "metadata": {},
   "outputs": [
    {
     "name": "stdout",
     "output_type": "stream",
     "text": [
      "Elapsed Time: 0 hours, 0 minutes, 0 seconds\n",
      "Current Memory Usage: 116 MB (0.1 GB)\n",
      "Memory Change Since Last Call: 0 MB (0.0 GB)\n",
      "Total Memory Change Since Instantiation: 0 MB (0.0 GB)\n"
     ]
    }
   ],
   "source": [
    "#Imports\n",
    "import os\n",
    "import pickle\n",
    "import numpy as np\n",
    "import pandas as pd\n",
    "from IPython.display import display, HTML\n",
    "\n",
    "pd.set_option('display.max_rows', 500)\n",
    "\n",
    "from open_neo import PATH_DATA_ICD, computeInfo\n",
    "\n",
    "#Start compute timer and system memory information\n",
    "compute_info = computeInfo()\n",
    "compute_info.info()\n",
    "\n",
    "#Filenames and paths\n",
    "PATH_DATA = PATH_DATA_ICD\n",
    "PATH_DATA_RAW = os.path.join(PATH_DATA,'raw')\n",
    "FILE_ICD9 = os.path.join(PATH_DATA_RAW,\n",
    "                         'icd_9_ccsr_hhs.csv')\n",
    "FILE_ICD9_CCSR = os.path.join(PATH_DATA_RAW,\n",
    "                         'icd_9_ccsr_desc.csv')\n",
    "FILE_ICD10 = os.path.join(PATH_DATA_RAW,\n",
    "                         'icd_10_ccsr_hhs.csv')"
   ]
  },
  {
   "cell_type": "code",
   "execution_count": 2,
   "id": "2d53b54f",
   "metadata": {},
   "outputs": [
    {
     "data": {
      "text/plain": [
       "IPython.core.display.HTML"
      ]
     },
     "execution_count": 2,
     "metadata": {},
     "output_type": "execute_result"
    }
   ],
   "source": [
    "HTML"
   ]
  },
  {
   "cell_type": "markdown",
   "id": "35570da6",
   "metadata": {},
   "source": [
    "#### 1.  ICD-9-CM and ICD-10-CM codes"
   ]
  },
  {
   "cell_type": "markdown",
   "id": "0d9212db",
   "metadata": {},
   "source": [
    "##### ICD-9-CM"
   ]
  },
  {
   "cell_type": "code",
   "execution_count": 3,
   "id": "a63324a9",
   "metadata": {},
   "outputs": [
    {
     "data": {
      "text/plain": [
       "count\n",
       "1    15072\n",
       "Name: count, dtype: int64"
      ]
     },
     "execution_count": 3,
     "metadata": {},
     "output_type": "execute_result"
    }
   ],
   "source": [
    "icd9 = pd.read_csv(FILE_ICD9)\n",
    "#Remove quotes\n",
    "for column in ['icd_code', 'ccsr_code', 'ccsr_category']:\n",
    "    icd9[column] = icd9[column].str.replace(\"'\", \"\").str.strip()\n",
    "\n",
    "#Load ccsr definitions\n",
    "icd9_ccsr = pd.read_csv(FILE_ICD9_CCSR)\n",
    "icd9 = icd9\\\n",
    "    .drop(columns='ccsr_category')\\\n",
    "    .merge(icd9_ccsr, how='left')\n",
    "icd9['icd_version'] = 9\n",
    "icd9.icd_code.value_counts().value_counts()"
   ]
  },
  {
   "cell_type": "code",
   "execution_count": 4,
   "id": "88920898",
   "metadata": {},
   "outputs": [
    {
     "data": {
      "text/html": [
       "<div>\n",
       "<style scoped>\n",
       "    .dataframe tbody tr th:only-of-type {\n",
       "        vertical-align: middle;\n",
       "    }\n",
       "\n",
       "    .dataframe tbody tr th {\n",
       "        vertical-align: top;\n",
       "    }\n",
       "\n",
       "    .dataframe thead th {\n",
       "        text-align: right;\n",
       "    }\n",
       "</style>\n",
       "<table border=\"1\" class=\"dataframe\">\n",
       "  <thead>\n",
       "    <tr style=\"text-align: right;\">\n",
       "      <th></th>\n",
       "      <th>icd_code</th>\n",
       "      <th>ccsr_code</th>\n",
       "      <th>icd_desc</th>\n",
       "      <th>ccsr_category</th>\n",
       "      <th>icd_version</th>\n",
       "    </tr>\n",
       "  </thead>\n",
       "  <tbody>\n",
       "    <tr>\n",
       "      <th>14564</th>\n",
       "      <td>E8720</td>\n",
       "      <td>2616</td>\n",
       "      <td>FAILURE STERILE SURGERY</td>\n",
       "      <td>E Codes: Adverse effects of medical care</td>\n",
       "      <td>9</td>\n",
       "    </tr>\n",
       "  </tbody>\n",
       "</table>\n",
       "</div>"
      ],
      "text/plain": [
       "      icd_code ccsr_code                 icd_desc  \\\n",
       "14564    E8720      2616  FAILURE STERILE SURGERY   \n",
       "\n",
       "                                  ccsr_category  icd_version  \n",
       "14564  E Codes: Adverse effects of medical care            9  "
      ]
     },
     "execution_count": 4,
     "metadata": {},
     "output_type": "execute_result"
    }
   ],
   "source": [
    "#Display a single ICD-9-CM code\n",
    "icd9[icd9.icd_code=='E8720']"
   ]
  },
  {
   "cell_type": "code",
   "execution_count": 5,
   "id": "a1c23cbf",
   "metadata": {},
   "outputs": [
    {
     "data": {
      "text/html": [
       "<div>\n",
       "<style scoped>\n",
       "    .dataframe tbody tr th:only-of-type {\n",
       "        vertical-align: middle;\n",
       "    }\n",
       "\n",
       "    .dataframe tbody tr th {\n",
       "        vertical-align: top;\n",
       "    }\n",
       "\n",
       "    .dataframe thead th {\n",
       "        text-align: right;\n",
       "    }\n",
       "</style>\n",
       "<table border=\"1\" class=\"dataframe\">\n",
       "  <thead>\n",
       "    <tr style=\"text-align: right;\">\n",
       "      <th></th>\n",
       "      <th>icd_code</th>\n",
       "      <th>ccsr_code</th>\n",
       "      <th>icd_desc</th>\n",
       "      <th>ccsr_category</th>\n",
       "      <th>icd_version</th>\n",
       "    </tr>\n",
       "  </thead>\n",
       "  <tbody>\n",
       "    <tr>\n",
       "      <th>5453</th>\n",
       "      <td>0081</td>\n",
       "      <td>135</td>\n",
       "      <td>ARIZONA ENTERITIS</td>\n",
       "      <td>Intestinal infection</td>\n",
       "      <td>9</td>\n",
       "    </tr>\n",
       "  </tbody>\n",
       "</table>\n",
       "</div>"
      ],
      "text/plain": [
       "     icd_code ccsr_code           icd_desc         ccsr_category  icd_version\n",
       "5453     0081       135  ARIZONA ENTERITIS  Intestinal infection            9"
      ]
     },
     "execution_count": 5,
     "metadata": {},
     "output_type": "execute_result"
    }
   ],
   "source": [
    "#Caution, some codes have leading 0's\n",
    "icd9[icd9.icd_code=='0081']"
   ]
  },
  {
   "cell_type": "markdown",
   "id": "00b4469a",
   "metadata": {},
   "source": [
    "##### ICD-10-CM"
   ]
  },
  {
   "cell_type": "code",
   "execution_count": 6,
   "id": "c71695c2",
   "metadata": {},
   "outputs": [
    {
     "data": {
      "text/plain": [
       "count\n",
       "1    66120\n",
       "2     6521\n",
       "3     1737\n",
       "4      564\n",
       "5       43\n",
       "6        2\n",
       "Name: count, dtype: int64"
      ]
     },
     "execution_count": 6,
     "metadata": {},
     "output_type": "execute_result"
    }
   ],
   "source": [
    "icd10_full = pd.read_csv(FILE_ICD10)\n",
    " #Note this associates ICD-10-CM codes with CCSR categories,\n",
    " # and CONTAINS DUPLICATED ICD CODE VALUES.\n",
    "# # (e.. each diagnosis has a primary category \n",
    "#       and possibly secondary categories\n",
    "#       (for both inpatient/outpatient)).\n",
    "# We use the primary, inpatient category, whenever applicable.\n",
    "icd10_full['default_ccrs_inpatient'] = pd.Categorical(\\\n",
    "        icd10_full['default_ccrs_inpatient'],\n",
    "        categories=['Y', 'N', 'X'], ordered=True)\n",
    "\n",
    "icd10_full = icd10_full.sort_values(\\\n",
    "        by=['icd_code','default_ccrs_inpatient'])\n",
    "\n",
    "icd10_full['icd_version'] = 10\n",
    "\n",
    "icd10_full['inpatient_outpatient_match'] = np.where(\\\n",
    "    icd10_full.default_ccrs_inpatient==icd10_full.default_ccrs_outpatient, 1,0)\n",
    " \n",
    "#Default to CCRS inpatient value\n",
    "icd10 = icd10_full\\\n",
    "        .copy()\\\n",
    "        .groupby('icd_code').first().reset_index()\n",
    "icd10_full.icd_code.value_counts().value_counts()"
   ]
  },
  {
   "cell_type": "code",
   "execution_count": 7,
   "id": "c9e6e28d",
   "metadata": {},
   "outputs": [
    {
     "data": {
      "text/html": [
       "<div>\n",
       "<style scoped>\n",
       "    .dataframe tbody tr th:only-of-type {\n",
       "        vertical-align: middle;\n",
       "    }\n",
       "\n",
       "    .dataframe tbody tr th {\n",
       "        vertical-align: top;\n",
       "    }\n",
       "\n",
       "    .dataframe thead th {\n",
       "        text-align: right;\n",
       "    }\n",
       "</style>\n",
       "<table border=\"1\" class=\"dataframe\">\n",
       "  <thead>\n",
       "    <tr style=\"text-align: right;\">\n",
       "      <th></th>\n",
       "      <th>icd_code</th>\n",
       "      <th>icd_desc</th>\n",
       "      <th>ccsr_code</th>\n",
       "      <th>ccsr_category</th>\n",
       "      <th>default_ccrs_inpatient</th>\n",
       "      <th>default_ccrs_outpatient</th>\n",
       "      <th>icd_version</th>\n",
       "      <th>inpatient_outpatient_match</th>\n",
       "    </tr>\n",
       "  </thead>\n",
       "  <tbody>\n",
       "    <tr>\n",
       "      <th>24578</th>\n",
       "      <td>O23512</td>\n",
       "      <td>Infections of cervix in pregnancy, second trim...</td>\n",
       "      <td>PRG028</td>\n",
       "      <td>Other specified complications in pregnancy</td>\n",
       "      <td>Y</td>\n",
       "      <td>Y</td>\n",
       "      <td>10</td>\n",
       "      <td>1</td>\n",
       "    </tr>\n",
       "    <tr>\n",
       "      <th>24577</th>\n",
       "      <td>O23512</td>\n",
       "      <td>Infections of cervix in pregnancy, second trim...</td>\n",
       "      <td>GEN018</td>\n",
       "      <td>Inflammatory diseases of female pelvic organs</td>\n",
       "      <td>N</td>\n",
       "      <td>N</td>\n",
       "      <td>10</td>\n",
       "      <td>1</td>\n",
       "    </tr>\n",
       "  </tbody>\n",
       "</table>\n",
       "</div>"
      ],
      "text/plain": [
       "      icd_code                                           icd_desc ccsr_code  \\\n",
       "24578   O23512  Infections of cervix in pregnancy, second trim...    PRG028   \n",
       "24577   O23512  Infections of cervix in pregnancy, second trim...    GEN018   \n",
       "\n",
       "                                       ccsr_category default_ccrs_inpatient  \\\n",
       "24578     Other specified complications in pregnancy                      Y   \n",
       "24577  Inflammatory diseases of female pelvic organs                      N   \n",
       "\n",
       "      default_ccrs_outpatient  icd_version  inpatient_outpatient_match  \n",
       "24578                       Y           10                           1  \n",
       "24577                       N           10                           1  "
      ]
     },
     "execution_count": 7,
     "metadata": {},
     "output_type": "execute_result"
    }
   ],
   "source": [
    "#Example CCSR codes\n",
    "#Primary, secondary\n",
    "icd_code = 'O23512'\n",
    "#icd_code = 'A5039'\n",
    "#icd_code = 'O99825'\n",
    "icd10_full[icd10_full.icd_code==icd_code]"
   ]
  },
  {
   "cell_type": "code",
   "execution_count": 8,
   "id": "137385b5",
   "metadata": {},
   "outputs": [
    {
     "data": {
      "text/html": [
       "<div>\n",
       "<style scoped>\n",
       "    .dataframe tbody tr th:only-of-type {\n",
       "        vertical-align: middle;\n",
       "    }\n",
       "\n",
       "    .dataframe tbody tr th {\n",
       "        vertical-align: top;\n",
       "    }\n",
       "\n",
       "    .dataframe thead th {\n",
       "        text-align: right;\n",
       "    }\n",
       "</style>\n",
       "<table border=\"1\" class=\"dataframe\">\n",
       "  <thead>\n",
       "    <tr style=\"text-align: right;\">\n",
       "      <th></th>\n",
       "      <th>icd_code</th>\n",
       "      <th>icd_desc</th>\n",
       "      <th>ccsr_code</th>\n",
       "      <th>ccsr_category</th>\n",
       "      <th>default_ccrs_inpatient</th>\n",
       "      <th>default_ccrs_outpatient</th>\n",
       "      <th>icd_version</th>\n",
       "      <th>inpatient_outpatient_match</th>\n",
       "    </tr>\n",
       "  </thead>\n",
       "  <tbody>\n",
       "    <tr>\n",
       "      <th>4033</th>\n",
       "      <td>E8589</td>\n",
       "      <td>Other amyloidosis</td>\n",
       "      <td>END016</td>\n",
       "      <td>Other specified and unspecified nutritional an...</td>\n",
       "      <td>Y</td>\n",
       "      <td>Y</td>\n",
       "      <td>10</td>\n",
       "      <td>1</td>\n",
       "    </tr>\n",
       "  </tbody>\n",
       "</table>\n",
       "</div>"
      ],
      "text/plain": [
       "     icd_code           icd_desc ccsr_code  \\\n",
       "4033    E8589  Other amyloidosis    END016   \n",
       "\n",
       "                                          ccsr_category  \\\n",
       "4033  Other specified and unspecified nutritional an...   \n",
       "\n",
       "     default_ccrs_inpatient default_ccrs_outpatient  icd_version  \\\n",
       "4033                      Y                       Y           10   \n",
       "\n",
       "      inpatient_outpatient_match  \n",
       "4033                           1  "
      ]
     },
     "execution_count": 8,
     "metadata": {},
     "output_type": "execute_result"
    }
   ],
   "source": [
    "#Extract info for a specific ICD-9-CM code \n",
    "# (note, no periods in code)\n",
    "icd10[icd10.icd_code=='E8589']"
   ]
  },
  {
   "cell_type": "markdown",
   "id": "9850c73b",
   "metadata": {},
   "source": [
    "#### Create combined ICD-[9/10]-CM dataset"
   ]
  },
  {
   "cell_type": "code",
   "execution_count": 9,
   "id": "dc431acd",
   "metadata": {},
   "outputs": [],
   "source": [
    "#Create description dataframes for ICD 9/10 codes\n",
    "icd_desc_columns = ['icd_code','icd_desc', 'ccsr_category'] #'ccsr_code',\n",
    "icd9_desc = icd9[icd_desc_columns]\n",
    "icd10_desc = icd10[icd_desc_columns]\n",
    "\n",
    "icd9_desc.columns.values[0] = 'icd9cm'\n",
    "icd9_desc = icd9_desc\\\n",
    "    .rename(columns={c: f'{c}9' for c in icd9_desc.columns[1:]})\n",
    "icd10_desc.columns.values[0] = 'icd10cm'\n",
    "icd10_desc = icd10_desc\\\n",
    "    .rename(columns={c: f'{c}10' for c in icd10_desc.columns[1:]})\n",
    "\n",
    "icd_desc_dict = {9:icd9_desc, 10:icd10_desc}\n",
    "# Construct Single ICD dataframe\n",
    "icd = pd.concat([icd9\\\n",
    "                 .rename(columns={'ccsr_code':'ccsr_code9',\n",
    "                    'ccsr_category':'ccsr_category9'}), \n",
    "                icd10.rename(columns={'ccsr_code':'ccsr_code10',\n",
    "                    'ccsr_category':'ccsr_category10'}) ], axis=0)\\\n",
    "                .sort_values(by='icd_code')\n",
    "\n",
    "temp = icd.icd_code.value_counts()\n",
    "duplicate_icd_codes = list(temp[temp>1].index)\n",
    "icd['icd_duplicate'] = np.where(icd.icd_code.isin(duplicate_icd_codes),1,0)         \n",
    "file_out = os.path.join(PATH_DATA, 'icd_9_10.csv')\n",
    "icd.to_csv(file_out, index=False)   "
   ]
  },
  {
   "cell_type": "markdown",
   "id": "628187fe",
   "metadata": {},
   "source": [
    "### Duplicate ICD Values"
   ]
  },
  {
   "cell_type": "code",
   "execution_count": 10,
   "id": "b0b2972d",
   "metadata": {},
   "outputs": [
    {
     "data": {
      "text/html": [
       "<div>\n",
       "<style scoped>\n",
       "    .dataframe tbody tr th:only-of-type {\n",
       "        vertical-align: middle;\n",
       "    }\n",
       "\n",
       "    .dataframe tbody tr th {\n",
       "        vertical-align: top;\n",
       "    }\n",
       "\n",
       "    .dataframe thead th {\n",
       "        text-align: right;\n",
       "    }\n",
       "</style>\n",
       "<table border=\"1\" class=\"dataframe\">\n",
       "  <thead>\n",
       "    <tr style=\"text-align: right;\">\n",
       "      <th></th>\n",
       "      <th>icd_code</th>\n",
       "      <th>ccsr_code</th>\n",
       "      <th>icd_desc</th>\n",
       "      <th>ccsr_category</th>\n",
       "      <th>icd_version</th>\n",
       "    </tr>\n",
       "  </thead>\n",
       "  <tbody>\n",
       "    <tr>\n",
       "      <th>14422</th>\n",
       "      <td>E8589</td>\n",
       "      <td>2613</td>\n",
       "      <td>ACC POISONING-DRUG NOS</td>\n",
       "      <td>E Codes: Poisoning</td>\n",
       "      <td>9</td>\n",
       "    </tr>\n",
       "  </tbody>\n",
       "</table>\n",
       "</div>"
      ],
      "text/plain": [
       "      icd_code ccsr_code                icd_desc       ccsr_category  \\\n",
       "14422    E8589      2613  ACC POISONING-DRUG NOS  E Codes: Poisoning   \n",
       "\n",
       "       icd_version  \n",
       "14422            9  "
      ]
     },
     "execution_count": 10,
     "metadata": {},
     "output_type": "execute_result"
    }
   ],
   "source": [
    "icd9[icd9.icd_code=='E8589']"
   ]
  },
  {
   "cell_type": "code",
   "execution_count": 11,
   "id": "3da1ada1",
   "metadata": {},
   "outputs": [
    {
     "data": {
      "text/html": [
       "<div>\n",
       "<style scoped>\n",
       "    .dataframe tbody tr th:only-of-type {\n",
       "        vertical-align: middle;\n",
       "    }\n",
       "\n",
       "    .dataframe tbody tr th {\n",
       "        vertical-align: top;\n",
       "    }\n",
       "\n",
       "    .dataframe thead th {\n",
       "        text-align: right;\n",
       "    }\n",
       "</style>\n",
       "<table border=\"1\" class=\"dataframe\">\n",
       "  <thead>\n",
       "    <tr style=\"text-align: right;\">\n",
       "      <th></th>\n",
       "      <th>icd_code</th>\n",
       "      <th>icd_desc</th>\n",
       "      <th>ccsr_code</th>\n",
       "      <th>ccsr_category</th>\n",
       "      <th>default_ccrs_inpatient</th>\n",
       "      <th>default_ccrs_outpatient</th>\n",
       "      <th>icd_version</th>\n",
       "      <th>inpatient_outpatient_match</th>\n",
       "    </tr>\n",
       "  </thead>\n",
       "  <tbody>\n",
       "    <tr>\n",
       "      <th>4033</th>\n",
       "      <td>E8589</td>\n",
       "      <td>Other amyloidosis</td>\n",
       "      <td>END016</td>\n",
       "      <td>Other specified and unspecified nutritional an...</td>\n",
       "      <td>Y</td>\n",
       "      <td>Y</td>\n",
       "      <td>10</td>\n",
       "      <td>1</td>\n",
       "    </tr>\n",
       "  </tbody>\n",
       "</table>\n",
       "</div>"
      ],
      "text/plain": [
       "     icd_code           icd_desc ccsr_code  \\\n",
       "4033    E8589  Other amyloidosis    END016   \n",
       "\n",
       "                                          ccsr_category  \\\n",
       "4033  Other specified and unspecified nutritional an...   \n",
       "\n",
       "     default_ccrs_inpatient default_ccrs_outpatient  icd_version  \\\n",
       "4033                      Y                       Y           10   \n",
       "\n",
       "      inpatient_outpatient_match  \n",
       "4033                           1  "
      ]
     },
     "execution_count": 11,
     "metadata": {},
     "output_type": "execute_result"
    }
   ],
   "source": [
    "icd10[icd10.icd_code=='E8589']"
   ]
  },
  {
   "cell_type": "markdown",
   "id": "11b39fe3",
   "metadata": {},
   "source": [
    "We identify the same codes as:\n",
    "https://www.hhs.gov/guidance/sites/default/files/hhs-guidance-documents/2015-duplicate_ICD10CM_codes.pdf\n",
    "\n",
    "\n",
    "We identify several additional duplicate codes, \n",
    "as we remove all periods from codes (e.g. E8589 (*ICD-9-CM*), E85.89 (*ICD-10-CM*))."
   ]
  },
  {
   "cell_type": "markdown",
   "id": "188b5046",
   "metadata": {},
   "source": [
    "## 2. Mappings Between ICD-9-CM and ICD-10-CM"
   ]
  },
  {
   "cell_type": "code",
   "execution_count": 12,
   "id": "b88dbff2",
   "metadata": {},
   "outputs": [
    {
     "data": {
      "text/html": [
       "<div>\n",
       "<style scoped>\n",
       "    .dataframe tbody tr th:only-of-type {\n",
       "        vertical-align: middle;\n",
       "    }\n",
       "\n",
       "    .dataframe tbody tr th {\n",
       "        vertical-align: top;\n",
       "    }\n",
       "\n",
       "    .dataframe thead th {\n",
       "        text-align: right;\n",
       "    }\n",
       "</style>\n",
       "<table border=\"1\" class=\"dataframe\">\n",
       "  <thead>\n",
       "    <tr style=\"text-align: right;\">\n",
       "      <th></th>\n",
       "      <th>icd10cm</th>\n",
       "      <th>icd9cm</th>\n",
       "      <th>flag_values</th>\n",
       "      <th>flag_approximate</th>\n",
       "      <th>flag_nomap</th>\n",
       "      <th>flag_combination</th>\n",
       "      <th>scenario</th>\n",
       "      <th>choice</th>\n",
       "      <th>icd_desc10</th>\n",
       "      <th>ccsr_category10</th>\n",
       "      <th>icd_desc9</th>\n",
       "      <th>ccsr_category9</th>\n",
       "    </tr>\n",
       "  </thead>\n",
       "  <tbody>\n",
       "    <tr>\n",
       "      <th>0</th>\n",
       "      <td>A000</td>\n",
       "      <td>0010</td>\n",
       "      <td>00000</td>\n",
       "      <td>0</td>\n",
       "      <td>0</td>\n",
       "      <td>0</td>\n",
       "      <td>0</td>\n",
       "      <td>0</td>\n",
       "      <td>Cholera due to Vibrio cholerae 01, biovar chol...</td>\n",
       "      <td>Intestinal infection</td>\n",
       "      <td>CHOLERA D/T VIB CHOLERAE</td>\n",
       "      <td>Intestinal infection</td>\n",
       "    </tr>\n",
       "    <tr>\n",
       "      <th>1</th>\n",
       "      <td>A001</td>\n",
       "      <td>0011</td>\n",
       "      <td>00000</td>\n",
       "      <td>0</td>\n",
       "      <td>0</td>\n",
       "      <td>0</td>\n",
       "      <td>0</td>\n",
       "      <td>0</td>\n",
       "      <td>Cholera due to Vibrio cholerae 01, biovar eltor</td>\n",
       "      <td>Intestinal infection</td>\n",
       "      <td>CHOLERA D/T VIB EL TOR</td>\n",
       "      <td>Intestinal infection</td>\n",
       "    </tr>\n",
       "  </tbody>\n",
       "</table>\n",
       "</div>"
      ],
      "text/plain": [
       "  icd10cm icd9cm flag_values  flag_approximate  flag_nomap  flag_combination  \\\n",
       "0    A000   0010       00000                 0           0                 0   \n",
       "1    A001   0011       00000                 0           0                 0   \n",
       "\n",
       "   scenario  choice                                         icd_desc10  \\\n",
       "0         0       0  Cholera due to Vibrio cholerae 01, biovar chol...   \n",
       "1         0       0    Cholera due to Vibrio cholerae 01, biovar eltor   \n",
       "\n",
       "        ccsr_category10                 icd_desc9        ccsr_category9  \n",
       "0  Intestinal infection  CHOLERA D/T VIB CHOLERAE  Intestinal infection  \n",
       "1  Intestinal infection    CHOLERA D/T VIB EL TOR  Intestinal infection  "
      ]
     },
     "execution_count": 12,
     "metadata": {},
     "output_type": "execute_result"
    }
   ],
   "source": [
    "#Note that this is NOT a 1-1 mapping\n",
    "#Filename, fixed width column specs\n",
    "icd_cm_mapping_dict = {(9,10):(\"2018_I9gem.txt\",\n",
    "                         [(0, 6), (6, 14), (14, 19)]),\n",
    "                    (10, 9):(\"2018_I10gem.txt\",\n",
    "                         [(0, 8), (8, 14), (14, 19)])}\n",
    "icd_mapping_dict = dict()\n",
    "for (icd_from, icd_to), (file_name, file_colspec) in icd_cm_mapping_dict.items():\n",
    "    from_var=f'icd{icd_from}cm'\n",
    "    to_var=f'icd{icd_to}cm'\n",
    "    to_code = f'ccsr_code{icd_to}'\n",
    "\n",
    "    path_file = os.path.join(PATH_DATA_RAW, file_name)\n",
    "    icd_mapping = pd.read_fwf(path_file,\n",
    "        sep='  ', \n",
    "    colspecs=file_colspec,\n",
    "    header=None,\n",
    "     names=[from_var, to_var, 'flag_values'],\n",
    "     dtype={'flag_values':str})\n",
    "    icd_mapping\n",
    "    # # Using DataFrame apply to simplify flag parsing\n",
    "    flags = icd_mapping['flag_values']\\\n",
    "        .apply(lambda x: \\\n",
    "            pd.Series(list(x))\\\n",
    "                .astype(int))\n",
    "    flags.columns = ['flag_approximate', \n",
    "                    'flag_nomap', \n",
    "                    'flag_combination',\n",
    "                    'scenario', \n",
    "                    'choice']\n",
    "    icd_mapping = pd.concat([icd_mapping, flags], axis=1)\n",
    "\n",
    "#    #Merge in description #[[from_var, to_var]]\\\n",
    "    icd_mapping = icd_mapping\\\n",
    "        .merge(icd_desc_dict[icd_from], how='left')\\\n",
    "        .merge(icd_desc_dict[(-icd_from+19)], how='left')\\\n",
    "            .sort_values(by=from_var)\n",
    "    \n",
    "    out_file_mapping_desc = os.path.join(PATH_DATA, f'icd{icd_from}to{icd_to}.csv')\n",
    "    icd_mapping.to_csv(out_file_mapping_desc, index=False)\n",
    "\n",
    "#   #Save mapping for later usage\n",
    "    icd_mapping_dict[icd_from] = icd_mapping\n",
    "\n",
    "icd_mapping.head(2)"
   ]
  },
  {
   "cell_type": "code",
   "execution_count": 13,
   "id": "1d28d83a",
   "metadata": {},
   "outputs": [],
   "source": [
    "#ICD-version mapping helper function\n",
    "def other_icd_version(icd_version):\n",
    "    #Maps 9->10, 10->9\n",
    "    return(-icd_version+19)"
   ]
  },
  {
   "cell_type": "code",
   "execution_count": 14,
   "id": "b7714861",
   "metadata": {},
   "outputs": [
    {
     "name": "stdout",
     "output_type": "stream",
     "text": [
      "9 -> 10\n",
      "flag_values\n",
      "10000    18578\n",
      "00000     3522\n",
      "10112     1151\n",
      "10111      853\n",
      "11000      422\n",
      "10122      115\n",
      "10121       71\n",
      "10132       48\n",
      "10131       34\n",
      "10142       26\n",
      "10141       20\n",
      "10161        6\n",
      "10151        6\n",
      "10152        2\n",
      "10162        2\n",
      "10123        2\n",
      "10133        2\n",
      "Name: count, dtype: int64\n",
      "\n",
      "10 -> 9\n",
      "flag_values\n",
      "10000    68307\n",
      "10111     4480\n",
      "10112     4254\n",
      "00000     3522\n",
      "11000      731\n",
      "10113      159\n",
      "10122       53\n",
      "10121       53\n",
      "10114       26\n",
      "10132        2\n",
      "10131        2\n",
      "10152        1\n",
      "10142        1\n",
      "10141        1\n",
      "10151        1\n",
      "Name: count, dtype: int64\n",
      "\n"
     ]
    }
   ],
   "source": [
    "#Print all flags for inspection\n",
    "for icd_version in [9, 10]:\n",
    "    mapping_use = icd_mapping_dict[icd_version]\n",
    "    print(icd_version, '->', other_icd_version(icd_version))\n",
    "    print(mapping_use.flag_values.value_counts())\n",
    "    print()"
   ]
  },
  {
   "cell_type": "code",
   "execution_count": 15,
   "id": "0476b7cf",
   "metadata": {},
   "outputs": [
    {
     "data": {
      "text/html": [
       "<div>\n",
       "<style scoped>\n",
       "    .dataframe tbody tr th:only-of-type {\n",
       "        vertical-align: middle;\n",
       "    }\n",
       "\n",
       "    .dataframe tbody tr th {\n",
       "        vertical-align: top;\n",
       "    }\n",
       "\n",
       "    .dataframe thead th {\n",
       "        text-align: right;\n",
       "    }\n",
       "</style>\n",
       "<table border=\"1\" class=\"dataframe\">\n",
       "  <thead>\n",
       "    <tr style=\"text-align: right;\">\n",
       "      <th></th>\n",
       "      <th>icd9cm</th>\n",
       "      <th>icd10cm</th>\n",
       "      <th>flag_values</th>\n",
       "      <th>flag_approximate</th>\n",
       "      <th>flag_nomap</th>\n",
       "      <th>flag_combination</th>\n",
       "      <th>scenario</th>\n",
       "      <th>choice</th>\n",
       "      <th>icd_desc9</th>\n",
       "      <th>ccsr_category9</th>\n",
       "      <th>icd_desc10</th>\n",
       "      <th>ccsr_category10</th>\n",
       "    </tr>\n",
       "  </thead>\n",
       "  <tbody>\n",
       "    <tr>\n",
       "      <th>63</th>\n",
       "      <td>00845</td>\n",
       "      <td>A0471</td>\n",
       "      <td>10000</td>\n",
       "      <td>1</td>\n",
       "      <td>0</td>\n",
       "      <td>0</td>\n",
       "      <td>0</td>\n",
       "      <td>0</td>\n",
       "      <td>CLOSTRIDIUM DIF (Begin 1992)</td>\n",
       "      <td>Intestinal infection</td>\n",
       "      <td>Enterocolitis due to Clostridium difficile, re...</td>\n",
       "      <td>Intestinal infection</td>\n",
       "    </tr>\n",
       "    <tr>\n",
       "      <th>64</th>\n",
       "      <td>00845</td>\n",
       "      <td>A0472</td>\n",
       "      <td>10000</td>\n",
       "      <td>1</td>\n",
       "      <td>0</td>\n",
       "      <td>0</td>\n",
       "      <td>0</td>\n",
       "      <td>0</td>\n",
       "      <td>CLOSTRIDIUM DIF (Begin 1992)</td>\n",
       "      <td>Intestinal infection</td>\n",
       "      <td>Enterocolitis due to Clostridium difficile, no...</td>\n",
       "      <td>Intestinal infection</td>\n",
       "    </tr>\n",
       "  </tbody>\n",
       "</table>\n",
       "</div>"
      ],
      "text/plain": [
       "   icd9cm icd10cm flag_values  flag_approximate  flag_nomap  flag_combination  \\\n",
       "63  00845   A0471       10000                 1           0                 0   \n",
       "64  00845   A0472       10000                 1           0                 0   \n",
       "\n",
       "    scenario  choice                     icd_desc9        ccsr_category9  \\\n",
       "63         0       0  CLOSTRIDIUM DIF (Begin 1992)  Intestinal infection   \n",
       "64         0       0  CLOSTRIDIUM DIF (Begin 1992)  Intestinal infection   \n",
       "\n",
       "                                           icd_desc10       ccsr_category10  \n",
       "63  Enterocolitis due to Clostridium difficile, re...  Intestinal infection  \n",
       "64  Enterocolitis due to Clostridium difficile, no...  Intestinal infection  "
      ]
     },
     "execution_count": 15,
     "metadata": {},
     "output_type": "execute_result"
    }
   ],
   "source": [
    "temp = icd_mapping_dict[9]\n",
    "temp[temp.icd9cm=='00845']"
   ]
  },
  {
   "cell_type": "code",
   "execution_count": 16,
   "id": "93e781b4",
   "metadata": {},
   "outputs": [
    {
     "data": {
      "text/html": [
       "<div>\n",
       "<style scoped>\n",
       "    .dataframe tbody tr th:only-of-type {\n",
       "        vertical-align: middle;\n",
       "    }\n",
       "\n",
       "    .dataframe tbody tr th {\n",
       "        vertical-align: top;\n",
       "    }\n",
       "\n",
       "    .dataframe thead th {\n",
       "        text-align: right;\n",
       "    }\n",
       "</style>\n",
       "<table border=\"1\" class=\"dataframe\">\n",
       "  <thead>\n",
       "    <tr style=\"text-align: right;\">\n",
       "      <th></th>\n",
       "      <th>icd10cm</th>\n",
       "      <th>icd9cm</th>\n",
       "      <th>flag_values</th>\n",
       "      <th>flag_approximate</th>\n",
       "      <th>flag_nomap</th>\n",
       "      <th>flag_combination</th>\n",
       "      <th>scenario</th>\n",
       "      <th>choice</th>\n",
       "      <th>icd_desc10</th>\n",
       "      <th>ccsr_category10</th>\n",
       "      <th>icd_desc9</th>\n",
       "      <th>ccsr_category9</th>\n",
       "    </tr>\n",
       "  </thead>\n",
       "  <tbody>\n",
       "    <tr>\n",
       "      <th>41</th>\n",
       "      <td>A0472</td>\n",
       "      <td>00845</td>\n",
       "      <td>10000</td>\n",
       "      <td>1</td>\n",
       "      <td>0</td>\n",
       "      <td>0</td>\n",
       "      <td>0</td>\n",
       "      <td>0</td>\n",
       "      <td>Enterocolitis due to Clostridium difficile, no...</td>\n",
       "      <td>Intestinal infection</td>\n",
       "      <td>CLOSTRIDIUM DIF (Begin 1992)</td>\n",
       "      <td>Intestinal infection</td>\n",
       "    </tr>\n",
       "  </tbody>\n",
       "</table>\n",
       "</div>"
      ],
      "text/plain": [
       "   icd10cm icd9cm flag_values  flag_approximate  flag_nomap  flag_combination  \\\n",
       "41   A0472  00845       10000                 1           0                 0   \n",
       "\n",
       "    scenario  choice                                         icd_desc10  \\\n",
       "41         0       0  Enterocolitis due to Clostridium difficile, no...   \n",
       "\n",
       "         ccsr_category10                     icd_desc9        ccsr_category9  \n",
       "41  Intestinal infection  CLOSTRIDIUM DIF (Begin 1992)  Intestinal infection  "
      ]
     },
     "execution_count": 16,
     "metadata": {},
     "output_type": "execute_result"
    }
   ],
   "source": [
    "temp = icd_mapping_dict[10]\n",
    "temp[temp.icd10cm=='A0472']"
   ]
  },
  {
   "cell_type": "markdown",
   "id": "31bbb320",
   "metadata": {},
   "source": [
    "### 3. ICD Categories by project\n",
    "\n",
    "Import a list of variables defined by lists of ICD codes. Provides all matching ICD-9-CM and ICD-10-CM codes, for manual inspection."
   ]
  },
  {
   "cell_type": "code",
   "execution_count": 17,
   "id": "529213b8",
   "metadata": {},
   "outputs": [
    {
     "name": "stdout",
     "output_type": "stream",
     "text": [
      "Number of ICD codes per category: icd_category\n",
      "surgery_indicated    140\n",
      "cmal_severe           24\n",
      "pvl                   20\n",
      "rop345                15\n",
      "hydrocephalus         12\n",
      "nec                    9\n",
      "cld                    5\n",
      "ivh34                  4\n",
      "laparotomy             2\n",
      "nec3                   2\n",
      "ventilation            2\n",
      "shunt                  1\n",
      "Name: count, dtype: int64\n"
     ]
    }
   ],
   "source": [
    "icd_categories = pd.read_csv(\n",
    "    os.path.join(PATH_DATA_RAW,\n",
    "        'icd_categories_initial.csv'))\n",
    "\n",
    "icd_categories = icd_categories\\\n",
    "    .merge(icd[['icd_code',\n",
    "                'icd_version']],\n",
    "         how = 'left')\n",
    "print('Number of ICD codes per category:' ,\n",
    "      icd_categories.icd_category.value_counts())"
   ]
  },
  {
   "cell_type": "code",
   "execution_count": 18,
   "id": "bd313bf3",
   "metadata": {},
   "outputs": [
    {
     "data": {
      "text/html": [
       "<h3>ICD categories:</h3>"
      ],
      "text/plain": [
       "<IPython.core.display.HTML object>"
      ]
     },
     "metadata": {},
     "output_type": "display_data"
    },
    {
     "data": {
      "text/html": [
       "<a href=\"data\\icd\\icd_mapping\\cld_inspection.html\">cld</a><br><a href=\"data\\icd\\icd_mapping\\cmal_severe_inspection.html\">cmal_severe</a><br><a href=\"data\\icd\\icd_mapping\\hydrocephalus_inspection.html\">hydrocephalus</a><br><a href=\"data\\icd\\icd_mapping\\ivh34_inspection.html\">ivh34</a><br><a href=\"data\\icd\\icd_mapping\\laparotomy_inspection.html\">laparotomy</a><br><a href=\"data\\icd\\icd_mapping\\nec_inspection.html\">nec</a><br><a href=\"data\\icd\\icd_mapping\\nec3_inspection.html\">nec3</a><br><a href=\"data\\icd\\icd_mapping\\pvl_inspection.html\">pvl</a><br><a href=\"data\\icd\\icd_mapping\\rop345_inspection.html\">rop345</a><br><a href=\"data\\icd\\icd_mapping\\shunt_inspection.html\">shunt</a><br><a href=\"data\\icd\\icd_mapping\\surgery_indicated_inspection.html\">surgery_indicated</a><br><a href=\"data\\icd\\icd_mapping\\ventilation_inspection.html\">ventilation</a>"
      ],
      "text/plain": [
       "<IPython.core.display.HTML object>"
      ]
     },
     "metadata": {},
     "output_type": "display_data"
    }
   ],
   "source": [
    "# Path to save HTML files\n",
    "html_output_path = os.path.join('data','icd','icd_mapping')\n",
    "\n",
    "# Ensure the output directory exists\n",
    "os.makedirs(html_output_path, exist_ok=True)\n",
    "\n",
    "# Initialize a list to keep track of all the HTML file names\n",
    "html_links = []\n",
    "\n",
    "# Inspect each ICD category\n",
    "for icd_category in np.sort(list(set(icd_categories.icd_category))):\n",
    "    temp = icd_categories[icd_categories.icd_category == icd_category] \\\n",
    "        .sort_values(by=['icd_version', 'icd_code']) \\\n",
    "        .merge(icd[['icd_code', 'icd_desc']], how='left')\n",
    "    \n",
    "    html_file_name = f'{icd_category}_inspection.html'\n",
    "    html_file = os.path.join(html_output_path, html_file_name)\n",
    "    html_links.append(f'<a href=\"{html_file}\">{icd_category}</a>')\n",
    "    \n",
    "    with open(html_file, 'w') as file:\n",
    "        file.write(f'<h1>ICD Category: {icd_category}</h1>')\n",
    "        file.write('<h2>Number of codes from each ICD version:</h2>')\n",
    "        file.write(temp.icd_version.value_counts().to_frame().to_html())\n",
    "        \n",
    "        file.write('<h2>ICD Codes:</h2>')\n",
    "        file.write(temp[['icd_code']].to_html(index=False))\n",
    "        \n",
    "        # Show the translations 9 -> 10, 10 -> 9\n",
    "        for icd_version in [9, 10]:\n",
    "            temp_codes = temp[temp.icd_version == icd_version].icd_code\n",
    "            icd_mapping_temp = icd_mapping_dict[icd_version]\n",
    "            icd_var = f'icd{icd_version}cm'\n",
    "            to_version = 10 if icd_version == 9 else 9\n",
    "            to_var = f'icd{to_version}cm'\n",
    "\n",
    "            out_print = icd_mapping_temp[icd_mapping_temp[icd_var].isin(temp_codes)].iloc[:, :3] \\\n",
    "                .merge(icd_desc_dict[icd_version], how='left') \\\n",
    "                .merge(icd_desc_dict[to_version], how='left') \\\n",
    "                .sort_values(by=icd_var)\n",
    "\n",
    "            out_print['in_codes'] = np.where(out_print[to_var].isin(temp.icd_code.values), 1, 0)\n",
    "            \n",
    "            file_out = f'{icd_category}_{icd_version}to{to_version}.csv'\n",
    "            #out_print.to_csv(os.path.join(html_output_path, file_out), index=False)\n",
    "            \n",
    "            file.write(f'<h2>ICD {icd_version} to ICD {to_version} Mapping:</h2>')\n",
    "            file.write(out_print.to_html(index=False))\n",
    "            file.write('<hr>')\n",
    "\n",
    "# Display links in the Jupyter notebook output\n",
    "display(HTML('<h3>ICD categories:</h3>'))\n",
    "display(HTML('<br>'.join(html_links)))"
   ]
  },
  {
   "cell_type": "code",
   "execution_count": 19,
   "id": "b019e230",
   "metadata": {},
   "outputs": [],
   "source": [
    "#Read in manually edited ICD code category file,\n",
    "# merge in ICD code information.\n",
    "icd_categories_out = pd.read_csv(os.path.join(PATH_DATA_RAW, \n",
    "                             'icd_categories_manual_edit.csv'))\\\n",
    "    .merge(icd[['icd_code','icd_version',\n",
    "                'icd_desc','icd_duplicate',\n",
    "                'ccsr_category9','ccsr_category10']], \n",
    "           how='left', on = ['icd_code'])\\\n",
    "    .sort_values(by=['icd_category','icd_version'])\n",
    "\n",
    "icd_categories_out['ccsr_category'] = icd_categories_out.ccsr_category9\\\n",
    "                .fillna(icd_categories_out.ccsr_category10)\n",
    "icd_categories_out = icd_categories_out.drop(columns=['ccsr_category9','ccsr_category10'])\n",
    "\n",
    "#Write out\n",
    "file_out = os.path.join(PATH_DATA, 'icd_categories_desc.csv')\n",
    "icd_categories_out.to_csv(file_out, index = False)"
   ]
  },
  {
   "cell_type": "code",
   "execution_count": 20,
   "id": "2536a906",
   "metadata": {},
   "outputs": [
    {
     "name": "stdout",
     "output_type": "stream",
     "text": [
      "['cld', 'hydrocephalus', 'ivh34', 'laparotomy', 'nec', 'nec3', 'pvl', 'rop345', 'shunt', 'ventilation']\n"
     ]
    }
   ],
   "source": [
    "path_use = os.path.join(PATH_DATA_ICD,\n",
    "                    'project_icd_categories')\n",
    "# Loop through the directory and identify .txt files\n",
    "for filename in os.listdir(path_use):\n",
    "    if filename.endswith(\".txt\"):\n",
    "        path_filename = os.path.join(path_use, filename)\n",
    "        #file_categories = os.path.join(path_use, filename)\n",
    "        category_name = os.path.splitext(filename)[0]\n",
    "        file_out = os.path.join(path_use, f'{category_name}.csv')\n",
    "        # file_out = os.path.join(file_path, f'{category_name}.txt')\n",
    "        with open(path_filename, 'r') as file:\n",
    "            project_icd_categories = file.read().splitlines()\n",
    "            project_out = icd_categories_out[\\\n",
    "                icd_categories_out.icd_category.isin(project_icd_categories)]\n",
    "            project_out.to_csv(file_out, index=False)\n",
    "\n",
    "# Print the list of all words\n",
    "print(project_icd_categories)"
   ]
  },
  {
   "cell_type": "code",
   "execution_count": 21,
   "id": "47fcbda4",
   "metadata": {},
   "outputs": [
    {
     "name": "stdout",
     "output_type": "stream",
     "text": [
      "Ensure all ICD codes are non-duplicates, \n",
      "    for simplicity in identification.\n",
      "If there are duplicates, a simple merge may cause errors.\n"
     ]
    },
    {
     "data": {
      "text/plain": [
       "icd_duplicate\n",
       "0    478\n",
       "Name: count, dtype: int64"
      ]
     },
     "execution_count": 21,
     "metadata": {},
     "output_type": "execute_result"
    }
   ],
   "source": [
    "print(\"\"\"Ensure all ICD codes are non-duplicates, \n",
    "    for simplicity in identification.\n",
    "If there are duplicates, a simple merge may cause errors.\"\"\")\n",
    "icd_categories_out.icd_duplicate.value_counts()"
   ]
  },
  {
   "cell_type": "code",
   "execution_count": 22,
   "id": "f18160f0",
   "metadata": {},
   "outputs": [
    {
     "name": "stdout",
     "output_type": "stream",
     "text": [
      "Number of ICD codes in each category:\n"
     ]
    },
    {
     "data": {
      "text/plain": [
       "icd_category\n",
       "surgery_indicated    358\n",
       "pvl                   37\n",
       "cmal_severe           28\n",
       "rop345                15\n",
       "hydrocephalus         11\n",
       "nec                    9\n",
       "cld                    5\n",
       "ivh34                  4\n",
       "ventilation            4\n",
       "laparotomy             2\n",
       "nec3                   2\n",
       "shunt                  2\n",
       "noscomial              1\n",
       "Name: count, dtype: int64"
      ]
     },
     "execution_count": 22,
     "metadata": {},
     "output_type": "execute_result"
    }
   ],
   "source": [
    "print('Number of ICD codes in each category:')\n",
    "icd_categories_out.icd_category.value_counts()"
   ]
  },
  {
   "cell_type": "code",
   "execution_count": 23,
   "id": "4db0904c",
   "metadata": {},
   "outputs": [
    {
     "name": "stdout",
     "output_type": "stream",
     "text": [
      "Number of ICD codes by version\n"
     ]
    },
    {
     "data": {
      "text/html": [
       "<div>\n",
       "<style scoped>\n",
       "    .dataframe tbody tr th:only-of-type {\n",
       "        vertical-align: middle;\n",
       "    }\n",
       "\n",
       "    .dataframe tbody tr th {\n",
       "        vertical-align: top;\n",
       "    }\n",
       "\n",
       "    .dataframe thead th {\n",
       "        text-align: right;\n",
       "    }\n",
       "</style>\n",
       "<table border=\"1\" class=\"dataframe\">\n",
       "  <thead>\n",
       "    <tr style=\"text-align: right;\">\n",
       "      <th>icd_version</th>\n",
       "      <th>9</th>\n",
       "      <th>10</th>\n",
       "    </tr>\n",
       "    <tr>\n",
       "      <th>icd_category</th>\n",
       "      <th></th>\n",
       "      <th></th>\n",
       "    </tr>\n",
       "  </thead>\n",
       "  <tbody>\n",
       "    <tr>\n",
       "      <th>cld</th>\n",
       "      <td>1</td>\n",
       "      <td>4</td>\n",
       "    </tr>\n",
       "    <tr>\n",
       "      <th>cmal_severe</th>\n",
       "      <td>13</td>\n",
       "      <td>15</td>\n",
       "    </tr>\n",
       "    <tr>\n",
       "      <th>hydrocephalus</th>\n",
       "      <td>0</td>\n",
       "      <td>11</td>\n",
       "    </tr>\n",
       "    <tr>\n",
       "      <th>ivh34</th>\n",
       "      <td>2</td>\n",
       "      <td>2</td>\n",
       "    </tr>\n",
       "    <tr>\n",
       "      <th>laparotomy</th>\n",
       "      <td>1</td>\n",
       "      <td>1</td>\n",
       "    </tr>\n",
       "    <tr>\n",
       "      <th>nec</th>\n",
       "      <td>5</td>\n",
       "      <td>4</td>\n",
       "    </tr>\n",
       "    <tr>\n",
       "      <th>nec3</th>\n",
       "      <td>1</td>\n",
       "      <td>1</td>\n",
       "    </tr>\n",
       "    <tr>\n",
       "      <th>noscomial</th>\n",
       "      <td>0</td>\n",
       "      <td>1</td>\n",
       "    </tr>\n",
       "    <tr>\n",
       "      <th>pvl</th>\n",
       "      <td>17</td>\n",
       "      <td>20</td>\n",
       "    </tr>\n",
       "    <tr>\n",
       "      <th>rop345</th>\n",
       "      <td>3</td>\n",
       "      <td>12</td>\n",
       "    </tr>\n",
       "    <tr>\n",
       "      <th>shunt</th>\n",
       "      <td>1</td>\n",
       "      <td>1</td>\n",
       "    </tr>\n",
       "    <tr>\n",
       "      <th>surgery_indicated</th>\n",
       "      <td>140</td>\n",
       "      <td>218</td>\n",
       "    </tr>\n",
       "    <tr>\n",
       "      <th>ventilation</th>\n",
       "      <td>2</td>\n",
       "      <td>2</td>\n",
       "    </tr>\n",
       "  </tbody>\n",
       "</table>\n",
       "</div>"
      ],
      "text/plain": [
       "icd_version         9    10\n",
       "icd_category               \n",
       "cld                  1    4\n",
       "cmal_severe         13   15\n",
       "hydrocephalus        0   11\n",
       "ivh34                2    2\n",
       "laparotomy           1    1\n",
       "nec                  5    4\n",
       "nec3                 1    1\n",
       "noscomial            0    1\n",
       "pvl                 17   20\n",
       "rop345               3   12\n",
       "shunt                1    1\n",
       "surgery_indicated  140  218\n",
       "ventilation          2    2"
      ]
     },
     "execution_count": 23,
     "metadata": {},
     "output_type": "execute_result"
    }
   ],
   "source": [
    "print('Number of ICD codes by version')\n",
    "pd.crosstab(icd_categories_out.icd_category, icd_categories_out.icd_version)"
   ]
  },
  {
   "cell_type": "markdown",
   "id": "f1b31e50",
   "metadata": {},
   "source": [
    "### Appendix"
   ]
  },
  {
   "cell_type": "markdown",
   "id": "9382b6cb",
   "metadata": {},
   "source": [
    "\n",
    "#### Spot check mappings, using [icd-mapper](https://pypi.org/project/icd-mappings/)  \n",
    "<a id=\"cell-icd-map\"></a>\n",
    "\n",
    "Note several shortcomings with this tool:\n",
    "\n",
    "* 1-1 mapping, simplification that NBER warns against ([FAQ #8](https://data.nber.org/gem/GEMs-CrosswalksBasicFAQ.pdf)).\n",
    "* Older version of the data."
   ]
  },
  {
   "cell_type": "code",
   "execution_count": 24,
   "id": "ba8f5ce0",
   "metadata": {},
   "outputs": [
    {
     "name": "stdout",
     "output_type": "stream",
     "text": [
      "7703 -> P268\n"
     ]
    }
   ],
   "source": [
    "from icdmappings import Mapper\n",
    "mapper = Mapper()\n",
    "icd9code = 'E8614' \n",
    "icd9code = '7703' #Hemorrhage, doesnt show multiple options.\n",
    "#icd9code = '85401'\n",
    "#9->10\n",
    "print(icd9code, '->', \n",
    "      mapper.map(icd9code, source='icd9', target='icd10'))"
   ]
  },
  {
   "cell_type": "code",
   "execution_count": 25,
   "id": "eb839bba",
   "metadata": {},
   "outputs": [
    {
     "data": {
      "text/html": [
       "<div>\n",
       "<style scoped>\n",
       "    .dataframe tbody tr th:only-of-type {\n",
       "        vertical-align: middle;\n",
       "    }\n",
       "\n",
       "    .dataframe tbody tr th {\n",
       "        vertical-align: top;\n",
       "    }\n",
       "\n",
       "    .dataframe thead th {\n",
       "        text-align: right;\n",
       "    }\n",
       "</style>\n",
       "<table border=\"1\" class=\"dataframe\">\n",
       "  <thead>\n",
       "    <tr style=\"text-align: right;\">\n",
       "      <th></th>\n",
       "      <th>icd9cm</th>\n",
       "      <th>icd10cm</th>\n",
       "      <th>flag_values</th>\n",
       "      <th>flag_approximate</th>\n",
       "      <th>flag_nomap</th>\n",
       "      <th>flag_combination</th>\n",
       "      <th>scenario</th>\n",
       "      <th>choice</th>\n",
       "      <th>icd_desc9</th>\n",
       "      <th>ccsr_category9</th>\n",
       "      <th>icd_desc10</th>\n",
       "      <th>ccsr_category10</th>\n",
       "    </tr>\n",
       "  </thead>\n",
       "  <tbody>\n",
       "    <tr>\n",
       "      <th>12413</th>\n",
       "      <td>7703</td>\n",
       "      <td>P261</td>\n",
       "      <td>10000</td>\n",
       "      <td>1</td>\n",
       "      <td>0</td>\n",
       "      <td>0</td>\n",
       "      <td>0</td>\n",
       "      <td>0</td>\n",
       "      <td>NB PULMONARY HEMORRHAGE</td>\n",
       "      <td>Other perinatal conditions</td>\n",
       "      <td>Massive pulmonary hemorrhage originating in th...</td>\n",
       "      <td>Respiratory perinatal condition</td>\n",
       "    </tr>\n",
       "    <tr>\n",
       "      <th>12414</th>\n",
       "      <td>7703</td>\n",
       "      <td>P268</td>\n",
       "      <td>10000</td>\n",
       "      <td>1</td>\n",
       "      <td>0</td>\n",
       "      <td>0</td>\n",
       "      <td>0</td>\n",
       "      <td>0</td>\n",
       "      <td>NB PULMONARY HEMORRHAGE</td>\n",
       "      <td>Other perinatal conditions</td>\n",
       "      <td>Other pulmonary hemorrhages originating in the...</td>\n",
       "      <td>Respiratory perinatal condition</td>\n",
       "    </tr>\n",
       "  </tbody>\n",
       "</table>\n",
       "</div>"
      ],
      "text/plain": [
       "      icd9cm icd10cm flag_values  flag_approximate  flag_nomap  \\\n",
       "12413   7703    P261       10000                 1           0   \n",
       "12414   7703    P268       10000                 1           0   \n",
       "\n",
       "       flag_combination  scenario  choice                icd_desc9  \\\n",
       "12413                 0         0       0  NB PULMONARY HEMORRHAGE   \n",
       "12414                 0         0       0  NB PULMONARY HEMORRHAGE   \n",
       "\n",
       "                   ccsr_category9  \\\n",
       "12413  Other perinatal conditions   \n",
       "12414  Other perinatal conditions   \n",
       "\n",
       "                                              icd_desc10  \\\n",
       "12413  Massive pulmonary hemorrhage originating in th...   \n",
       "12414  Other pulmonary hemorrhages originating in the...   \n",
       "\n",
       "                       ccsr_category10  \n",
       "12413  Respiratory perinatal condition  \n",
       "12414  Respiratory perinatal condition  "
      ]
     },
     "execution_count": 25,
     "metadata": {},
     "output_type": "execute_result"
    }
   ],
   "source": [
    "temp = icd_mapping_dict[9]\n",
    "temp[temp.icd9cm=='7703']"
   ]
  },
  {
   "cell_type": "markdown",
   "id": "06ba3533",
   "metadata": {},
   "source": [
    "[Here is the line of code that produces this behavior](https://github.com/snovaisg/ICD-Mappings/blob/main/icdmappings/mappers/icd9_to_icd10.py):\n",
    "\n",
    "\n",
    "```\n",
    "58: mapping[icd9] = icd10\n",
    "```\n",
    "\n",
    "E.g. stores the last value in a single value dictionary, overwrites any previous values"
   ]
  },
  {
   "cell_type": "code",
   "execution_count": 26,
   "id": "5be5b067",
   "metadata": {},
   "outputs": [
    {
     "name": "stdout",
     "output_type": "stream",
     "text": [
      "A0472 -> None\n"
     ]
    }
   ],
   "source": [
    "#10->9\n",
    "icd10code = 'R402234'\n",
    "icd10code = 'P269'\n",
    "icd10code = 'A0472' \n",
    "#Package appears to use an [older version of the data](https://github.com/snovaisg/ICD-Mappings/tree/main/icdmappings/data_files)\n",
    "#A0472 - Added 2018 -  https://www.icd10data.com/ICD10CM/Codes/A00-B99/A00-A09/A04-/A04.72\n",
    "print(icd10code, '->',\n",
    "       mapper.map(icd10code, source='icd10', target='icd9') )"
   ]
  },
  {
   "cell_type": "code",
   "execution_count": 27,
   "id": "331c57da",
   "metadata": {},
   "outputs": [
    {
     "name": "stdout",
     "output_type": "stream",
     "text": [
      "Elapsed Time: 0 hours, 0 minutes, 41 seconds\n",
      "Current Memory Usage: 206 MB (0.2 GB)\n",
      "Memory Change Since Last Call: 91 MB (0.1 GB)\n",
      "Total Memory Change Since Instantiation: 91 MB (0.1 GB)\n"
     ]
    }
   ],
   "source": [
    "compute_info.info()"
   ]
  }
 ],
 "metadata": {
  "kernelspec": {
   "display_name": "Python 3 (ipykernel)",
   "language": "python",
   "name": "python3"
  },
  "language_info": {
   "codemirror_mode": {
    "name": "ipython",
    "version": 3
   },
   "file_extension": ".py",
   "mimetype": "text/x-python",
   "name": "python",
   "nbconvert_exporter": "python",
   "pygments_lexer": "ipython3",
   "version": "3.12.2"
  }
 },
 "nbformat": 4,
 "nbformat_minor": 5
}
